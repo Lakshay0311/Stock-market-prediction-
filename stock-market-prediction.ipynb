{
 "cells": [
  {
   "cell_type": "code",
   "execution_count": 1,
   "metadata": {
    "_cell_guid": "b1076dfc-b9ad-4769-8c92-a6c4dae69d19",
    "_uuid": "8f2839f25d086af736a60e9eeb907d3b93b6e0e5"
   },
   "outputs": [],
   "source": [
    "import pandas as pd\n",
    "import matplotlib as plt\n",
    "import seaborn as sns\n",
    "import numpy as np"
   ]
  },
  {
   "cell_type": "code",
   "execution_count": 2,
   "metadata": {},
   "outputs": [],
   "source": [
    "train = pd.read_csv('../input/61bc6d6c-9-dataset/dataset/train.csv')\n",
    "test  = pd.read_csv('../input/61bc6d6c-9-dataset/dataset/test.csv')\n",
    "sample = pd.read_csv('../input/61bc6d6c-9-dataset/dataset/Sample_Submission.csv')"
   ]
  },
  {
   "cell_type": "code",
   "execution_count": 3,
   "metadata": {},
   "outputs": [],
   "source": [
    "y = train['Price']"
   ]
  },
  {
   "cell_type": "code",
   "execution_count": 4,
   "metadata": {},
   "outputs": [],
   "source": [
    "y = train['Price']\n",
    "\n",
    "train = train.drop(['Price'],axis =1)"
   ]
  },
  {
   "cell_type": "code",
   "execution_count": 5,
   "metadata": {},
   "outputs": [],
   "source": [
    "aa = ['SMA', 'EMA', 'WMA', 'DEMA', 'TEMA', 'TRIMA', 'KAMA', 'FAMA', 'MAMA',\n",
    "       'T3', 'MACD', 'MACD_Hist', 'MACD_Signal', 'MAC', 'MACDHist',\n",
    "       'MAC_Signal', 'SlowD', 'SlowK', 'FastD', 'FastK', 'RSI', 'FatD', 'FatK',\n",
    "       'WILLR', 'ADX', 'ADXR', 'APO', 'PPO', 'MOM', 'BOP', 'CCI', 'CMO', 'ROC',\n",
    "       'ROCR', 'MFI', 'TRIX', 'ULTOSC', 'DX', 'MINUS_DI', 'PLUS_DI',\n",
    "       'MINUS_DM', 'PLUS_DM', 'Real Lower Band', 'Real Middle Band',\n",
    "       'Real Upper Band', 'MIDPOINT', 'MIDPRICE', 'SAR', 'TRANGE', 'ATR',\n",
    "       'NATR', 'ADOSC', 'HT_TRENDLINE', 'LEAD SINE', 'SINE', 'DCPERIOD',\n",
    "       'HT_DCPHASE', 'PHASE', 'QUADRATURE']"
   ]
  },
  {
   "cell_type": "code",
   "execution_count": 6,
   "metadata": {},
   "outputs": [],
   "source": [
    "a = ['SMA', 'EMA', 'WMA', 'DEMA', 'TEMA', 'TRIMA', 'KAMA', 'FAMA', 'MAMA',\n",
    "       'T3', 'MACD', 'MACD_Hist', 'MACD_Signal', 'MAC', 'MAC_Hist',\n",
    "       'MAC_Signal', 'SlowD', 'SlowK', 'FastD', 'FastK', 'RSI', 'FatD', 'FatK',\n",
    "       'WILLR', 'ADX', 'ADXR', 'APO', 'PPO', 'MOM', 'BOP', 'CCI', 'CMO', 'ROC',\n",
    "       'ROCR', 'Aroon Down', 'Aroon Up', 'AROONOSC', 'MFI', 'TRIX', 'ULTOSC',\n",
    "       'DX', 'MINUS_DI', 'PLUS_DI', 'MINUS_DM', 'PLUS_DM', 'Real Lower Band',\n",
    "       'Real Middle Band', 'Real Upper Band', 'MIDPOINT', 'MIDPRICE', 'SAR',\n",
    "       'TRANGE', 'ATR', 'NATR', 'Chaikin A/D', 'ADOSC', 'OBV', 'HT_TRENDLINE',\n",
    "       'LEAD SINE', 'SINE', 'TRENDMODE', 'DCPERIOD', 'HT_DCPHASE', 'PHASE',\n",
    "       'QUADRATURE']"
   ]
  },
  {
   "cell_type": "code",
   "execution_count": 7,
   "metadata": {},
   "outputs": [
    {
     "data": {
      "text/plain": [
       "ID                    int64\n",
       "Date                 object\n",
       "Company              object\n",
       "SMA                 float64\n",
       "EMA                 float64\n",
       "WMA                 float64\n",
       "DEMA                float64\n",
       "TEMA                float64\n",
       "TRIMA               float64\n",
       "KAMA                float64\n",
       "FAMA                float64\n",
       "MAMA                float64\n",
       "T3                  float64\n",
       "MACD                float64\n",
       "MACD_Hist           float64\n",
       "MACD_Signal         float64\n",
       "MAC                 float64\n",
       "MAC_Hist            float64\n",
       "MAC_Signal          float64\n",
       "SlowD               float64\n",
       "SlowK               float64\n",
       "FastD               float64\n",
       "FastK               float64\n",
       "RSI                 float64\n",
       "FatD                float64\n",
       "FatK                float64\n",
       "WILLR               float64\n",
       "ADX                 float64\n",
       "ADXR                float64\n",
       "APO                 float64\n",
       "                     ...   \n",
       "Aroon Up            float64\n",
       "AROONOSC            float64\n",
       "MFI                 float64\n",
       "TRIX                float64\n",
       "ULTOSC              float64\n",
       "DX                  float64\n",
       "MINUS_DI            float64\n",
       "PLUS_DI             float64\n",
       "MINUS_DM            float64\n",
       "PLUS_DM             float64\n",
       "Real Lower Band     float64\n",
       "Real Middle Band    float64\n",
       "Real Upper Band     float64\n",
       "MIDPOINT            float64\n",
       "MIDPRICE            float64\n",
       "SAR                 float64\n",
       "TRANGE              float64\n",
       "ATR                 float64\n",
       "NATR                float64\n",
       "Chaikin A/D         float64\n",
       "ADOSC               float64\n",
       "OBV                 float64\n",
       "HT_TRENDLINE        float64\n",
       "LEAD SINE           float64\n",
       "SINE                float64\n",
       "TRENDMODE           float64\n",
       "DCPERIOD            float64\n",
       "HT_DCPHASE          float64\n",
       "PHASE               float64\n",
       "QUADRATURE          float64\n",
       "Length: 68, dtype: object"
      ]
     },
     "execution_count": 7,
     "metadata": {},
     "output_type": "execute_result"
    }
   ],
   "source": [
    "train.dtypes"
   ]
  },
  {
   "cell_type": "code",
   "execution_count": 8,
   "metadata": {},
   "outputs": [],
   "source": [
    "for _ in a:\n",
    "    if True:\n",
    "        train[_]=train[_].fillna(np.mean(train[_]))\n",
    "    \n",
    "for _ in aa:\n",
    "    if True:\n",
    "        test[_]=test[_].astype(int)\n",
    "for _ in a:\n",
    "    if True:\n",
    "        train[_]=train[_].astype(int)\n"
   ]
  },
  {
   "cell_type": "code",
   "execution_count": 9,
   "metadata": {},
   "outputs": [
    {
     "data": {
      "text/plain": [
       "ID                   int64\n",
       "Date                object\n",
       "Company             object\n",
       "SMA                  int64\n",
       "EMA                  int64\n",
       "WMA                  int64\n",
       "DEMA                 int64\n",
       "TEMA                 int64\n",
       "TRIMA                int64\n",
       "KAMA                 int64\n",
       "FAMA                 int64\n",
       "MAMA                 int64\n",
       "T3                   int64\n",
       "MACD                 int64\n",
       "MACD_Hist            int64\n",
       "MACD_Signal          int64\n",
       "MAC                  int64\n",
       "MAC_Hist             int64\n",
       "MAC_Signal           int64\n",
       "SlowD                int64\n",
       "SlowK                int64\n",
       "FastD                int64\n",
       "FastK                int64\n",
       "RSI                  int64\n",
       "FatD                 int64\n",
       "FatK                 int64\n",
       "WILLR                int64\n",
       "ADX                  int64\n",
       "ADXR                 int64\n",
       "APO                  int64\n",
       "                     ...  \n",
       "Aroon Up             int64\n",
       "AROONOSC             int64\n",
       "MFI                  int64\n",
       "TRIX                 int64\n",
       "ULTOSC               int64\n",
       "DX                   int64\n",
       "MINUS_DI             int64\n",
       "PLUS_DI              int64\n",
       "MINUS_DM             int64\n",
       "PLUS_DM              int64\n",
       "Real Lower Band      int64\n",
       "Real Middle Band     int64\n",
       "Real Upper Band      int64\n",
       "MIDPOINT             int64\n",
       "MIDPRICE             int64\n",
       "SAR                  int64\n",
       "TRANGE               int64\n",
       "ATR                  int64\n",
       "NATR                 int64\n",
       "Chaikin A/D          int64\n",
       "ADOSC                int64\n",
       "OBV                  int64\n",
       "HT_TRENDLINE         int64\n",
       "LEAD SINE            int64\n",
       "SINE                 int64\n",
       "TRENDMODE            int64\n",
       "DCPERIOD             int64\n",
       "HT_DCPHASE           int64\n",
       "PHASE                int64\n",
       "QUADRATURE           int64\n",
       "Length: 68, dtype: object"
      ]
     },
     "execution_count": 9,
     "metadata": {},
     "output_type": "execute_result"
    }
   ],
   "source": [
    "train.dtypes"
   ]
  },
  {
   "cell_type": "code",
   "execution_count": 10,
   "metadata": {},
   "outputs": [],
   "source": [
    "train['Date'] = pd.to_datetime(train['Date'])\n",
    "train['ID'] = train['ID'].astype(int) \n"
   ]
  },
  {
   "cell_type": "code",
   "execution_count": 11,
   "metadata": {},
   "outputs": [],
   "source": [
    "train.set_index('ID', inplace = True)"
   ]
  },
  {
   "cell_type": "code",
   "execution_count": 12,
   "metadata": {},
   "outputs": [],
   "source": [
    "id = test['ID']\n",
    "test = test.drop(['ID'],axis = 1)\n"
   ]
  },
  {
   "cell_type": "code",
   "execution_count": 13,
   "metadata": {},
   "outputs": [],
   "source": [
    "train = pd.get_dummies(train , columns = ['Company '])"
   ]
  },
  {
   "cell_type": "code",
   "execution_count": 14,
   "metadata": {},
   "outputs": [],
   "source": [
    "train['Company _ABC']= train['Company _ABC'].astype(int)\n",
    "train['Company _DEF']  = train['Company _DEF'].astype(int)\n",
    "train['Company _GHI']  = train['Company _GHI'].astype(int)"
   ]
  },
  {
   "cell_type": "code",
   "execution_count": 15,
   "metadata": {},
   "outputs": [],
   "source": [
    "test  = pd.get_dummies(test  , columns  = ['Company '])"
   ]
  },
  {
   "cell_type": "code",
   "execution_count": 16,
   "metadata": {},
   "outputs": [],
   "source": [
    "test = test.drop(['Date'],axis = 1)\n",
    "train = train.drop(['Date'],axis = 1)"
   ]
  },
  {
   "cell_type": "code",
   "execution_count": 17,
   "metadata": {},
   "outputs": [],
   "source": [
    "from sklearn.feature_selection import SelectKBest\n",
    "from sklearn.feature_selection import chi2"
   ]
  },
  {
   "cell_type": "code",
   "execution_count": 18,
   "metadata": {},
   "outputs": [],
   "source": [
    "bestfeatures = SelectKBest(score_func=chi2, k=10)"
   ]
  },
  {
   "cell_type": "code",
   "execution_count": 19,
   "metadata": {},
   "outputs": [],
   "source": [
    "from sklearn.ensemble import RandomForestRegressor \n",
    "from sklearn.model_selection import cross_val_score"
   ]
  },
  {
   "cell_type": "code",
   "execution_count": 20,
   "metadata": {},
   "outputs": [
    {
     "name": "stderr",
     "output_type": "stream",
     "text": [
      "/opt/conda/lib/python3.6/site-packages/sklearn/ensemble/forest.py:245: FutureWarning: The default value of n_estimators will change from 10 in version 0.20 to 100 in 0.22.\n",
      "  \"10 in version 0.20 to 100 in 0.22.\", FutureWarning)\n"
     ]
    },
    {
     "data": {
      "text/plain": [
       "RandomForestRegressor(bootstrap=True, criterion='mse', max_depth=None,\n",
       "                      max_features='auto', max_leaf_nodes=None,\n",
       "                      min_impurity_decrease=0.0, min_impurity_split=None,\n",
       "                      min_samples_leaf=1, min_samples_split=2,\n",
       "                      min_weight_fraction_leaf=0.0, n_estimators=10,\n",
       "                      n_jobs=None, oob_score=False, random_state=1, verbose=0,\n",
       "                      warm_start=False)"
      ]
     },
     "execution_count": 20,
     "metadata": {},
     "output_type": "execute_result"
    }
   ],
   "source": [
    "RF=RandomForestRegressor(random_state=1)\n",
    "RF.fit(train, y)"
   ]
  },
  {
   "cell_type": "code",
   "execution_count": 21,
   "metadata": {},
   "outputs": [],
   "source": [
    "pred = RF.predict(test)"
   ]
  },
  {
   "cell_type": "code",
   "execution_count": 22,
   "metadata": {},
   "outputs": [
    {
     "data": {
      "text/plain": [
       "array([561.82934, 382.516  ,  39.31   , ..., 198.787  , 663.7956 ,\n",
       "       131.607  ])"
      ]
     },
     "execution_count": 22,
     "metadata": {},
     "output_type": "execute_result"
    }
   ],
   "source": [
    "pred"
   ]
  },
  {
   "cell_type": "code",
   "execution_count": 23,
   "metadata": {},
   "outputs": [],
   "source": [
    "submit = pd.DataFrame(columns = ['ID' , 'Price'])"
   ]
  },
  {
   "cell_type": "code",
   "execution_count": 24,
   "metadata": {},
   "outputs": [],
   "source": [
    "submit['ID']  = id\n",
    "submit['Price'] =  pred"
   ]
  },
  {
   "cell_type": "code",
   "execution_count": 25,
   "metadata": {},
   "outputs": [
    {
     "data": {
      "text/html": [
       "<div>\n",
       "<style scoped>\n",
       "    .dataframe tbody tr th:only-of-type {\n",
       "        vertical-align: middle;\n",
       "    }\n",
       "\n",
       "    .dataframe tbody tr th {\n",
       "        vertical-align: top;\n",
       "    }\n",
       "\n",
       "    .dataframe thead th {\n",
       "        text-align: right;\n",
       "    }\n",
       "</style>\n",
       "<table border=\"1\" class=\"dataframe\">\n",
       "  <thead>\n",
       "    <tr style=\"text-align: right;\">\n",
       "      <th></th>\n",
       "      <th>ID</th>\n",
       "      <th>Price</th>\n",
       "    </tr>\n",
       "  </thead>\n",
       "  <tbody>\n",
       "    <tr>\n",
       "      <th>0</th>\n",
       "      <td>12001</td>\n",
       "      <td>561.82934</td>\n",
       "    </tr>\n",
       "    <tr>\n",
       "      <th>1</th>\n",
       "      <td>12002</td>\n",
       "      <td>382.51600</td>\n",
       "    </tr>\n",
       "    <tr>\n",
       "      <th>2</th>\n",
       "      <td>12003</td>\n",
       "      <td>39.31000</td>\n",
       "    </tr>\n",
       "    <tr>\n",
       "      <th>3</th>\n",
       "      <td>12004</td>\n",
       "      <td>561.34919</td>\n",
       "    </tr>\n",
       "    <tr>\n",
       "      <th>4</th>\n",
       "      <td>12005</td>\n",
       "      <td>381.60600</td>\n",
       "    </tr>\n",
       "  </tbody>\n",
       "</table>\n",
       "</div>"
      ],
      "text/plain": [
       "      ID      Price\n",
       "0  12001  561.82934\n",
       "1  12002  382.51600\n",
       "2  12003   39.31000\n",
       "3  12004  561.34919\n",
       "4  12005  381.60600"
      ]
     },
     "execution_count": 25,
     "metadata": {},
     "output_type": "execute_result"
    }
   ],
   "source": [
    "submit.head()"
   ]
  },
  {
   "cell_type": "code",
   "execution_count": 26,
   "metadata": {},
   "outputs": [
    {
     "data": {
      "text/plain": [
       "True"
      ]
     },
     "execution_count": 26,
     "metadata": {},
     "output_type": "execute_result"
    }
   ],
   "source": [
    "sample.shape  == submit.shape"
   ]
  },
  {
   "cell_type": "code",
   "execution_count": 27,
   "metadata": {},
   "outputs": [],
   "source": [
    "submit.to_csv('stock_prices.csv')"
   ]
  },
  {
   "cell_type": "code",
   "execution_count": null,
   "metadata": {},
   "outputs": [],
   "source": []
  }
 ],
 "metadata": {
  "kernelspec": {
   "display_name": "Python 3",
   "language": "python",
   "name": "python3"
  },
  "language_info": {
   "codemirror_mode": {
    "name": "ipython",
    "version": 3
   },
   "file_extension": ".py",
   "mimetype": "text/x-python",
   "name": "python",
   "nbconvert_exporter": "python",
   "pygments_lexer": "ipython3",
   "version": "3.6.6"
  }
 },
 "nbformat": 4,
 "nbformat_minor": 1
}
